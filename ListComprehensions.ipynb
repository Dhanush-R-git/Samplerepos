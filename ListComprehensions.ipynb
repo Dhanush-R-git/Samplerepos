{
  "nbformat": 4,
  "nbformat_minor": 0,
  "metadata": {
    "colab": {
      "provenance": [],
      "authorship_tag": "ABX9TyPolG2wzyX1UfFT9CQ7Y3sS",
      "include_colab_link": true
    },
    "kernelspec": {
      "name": "python3",
      "display_name": "Python 3"
    },
    "language_info": {
      "name": "python"
    }
  },
  "cells": [
    {
      "cell_type": "markdown",
      "metadata": {
        "id": "view-in-github",
        "colab_type": "text"
      },
      "source": [
        "<a href=\"https://colab.research.google.com/github/Dhanush-R0987/Samplerepo/blob/backend/ListComprehensions.ipynb\" target=\"_parent\"><img src=\"https://colab.research.google.com/assets/colab-badge.svg\" alt=\"Open In Colab\"/></a>"
      ]
    },
    {
      "cell_type": "code",
      "execution_count": null,
      "metadata": {
        "colab": {
          "base_uri": "https://localhost:8080/"
        },
        "id": "foE1YQKR8GQ8",
        "outputId": "b78f7986-506d-4a52-be95-bd43a905907b"
      },
      "outputs": [
        {
          "output_type": "stream",
          "name": "stdout",
          "text": [
            "5\n",
            "1 2 3 4 5\n",
            "246810"
          ]
        }
      ],
      "source": [
        "n=int(input())\n",
        "x=list(map(int,input().split()))[:n]\n",
        "for i in x:\n",
        "  print(i*2, end=\"\")"
      ]
    },
    {
      "cell_type": "code",
      "source": [
        "n=int(input())\n",
        "x=list(map(int,input().split()))[:n]\n",
        "#LC=[Expression for item in iterable if condition]\n",
        "LC=[i*2 for i in x if i%2==0]\n",
        "print(LC)"
      ],
      "metadata": {
        "colab": {
          "base_uri": "https://localhost:8080/"
        },
        "id": "uEbS5faB9K-N",
        "outputId": "21d2ce62-b3c1-4ab4-f668-107327c1f29c"
      },
      "execution_count": null,
      "outputs": [
        {
          "output_type": "stream",
          "name": "stdout",
          "text": [
            "10\n",
            "1 2 3 4 5 6 7 8 9 20\n",
            "[4, 8, 12, 16, 40]\n"
          ]
        }
      ]
    },
    {
      "cell_type": "code",
      "source": [],
      "metadata": {
        "id": "PqLCK9y79NlN"
      },
      "execution_count": null,
      "outputs": []
    }
  ]
}